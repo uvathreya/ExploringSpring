{
 "cells": [
  {
   "cell_type": "code",
   "execution_count": 25,
   "metadata": {},
   "outputs": [
    {
     "data": {
      "text/plain": [
       "{'productionFromBB': {'Apr-12': 33900,\n",
       "  'Apr-13': 30500,\n",
       "  'Apr-14': 34800,\n",
       "  'Aug-12': 29500,\n",
       "  'Aug-13': 36900,\n",
       "  'Aug-14': 30300,\n",
       "  'Dec-12': 42300,\n",
       "  'Dec-13': 36800,\n",
       "  'Feb-12': 36400,\n",
       "  'Feb-13': 27500,\n",
       "  'Feb-14': 38600,\n",
       "  'Jan-12': 38500,\n",
       "  'Jan-13': 34000,\n",
       "  'Jan-14': 27600,\n",
       "  'Jul-12': 32100,\n",
       "  'Jul-13': 34000,\n",
       "  'Jul-14': 31800,\n",
       "  'Jun-12': 32400,\n",
       "  'Jun-13': 36900,\n",
       "  'Jun-14': 31100,\n",
       "  'Mar-12': 37400,\n",
       "  'Mar-13': 32900,\n",
       "  'Mar-14': 38000,\n",
       "  'May-12': 29800,\n",
       "  'May-13': 28000,\n",
       "  'May-14': 33300,\n",
       "  'Nov-12': 33300,\n",
       "  'Nov-13': 29100,\n",
       "  'Oct-12': 37900,\n",
       "  'Oct-13': 30800,\n",
       "  'Sep-12': 27000,\n",
       "  'Sep-13': 37200,\n",
       "  'Sep-14': 28000}}"
      ]
     },
     "execution_count": 25,
     "metadata": {},
     "output_type": "execute_result"
    }
   ],
   "source": [
    "import pandas as pd\n",
    "df = pd.read_json(r'D:/Downloads/data1.json')\n",
    "dic = df.to_dict()\n",
    "dic\n",
    "\n"
   ]
  },
  {
   "cell_type": "code",
   "execution_count": 29,
   "metadata": {},
   "outputs": [
    {
     "name": "stdout",
     "output_type": "stream",
     "text": [
      "name rose\n",
      "color yellow\n",
      "size small\n"
     ]
    }
   ],
   "source": [
    "dict1 = {\n",
    "  \"name\": \"rose\",\n",
    "  \"color\": \"pink\",\n",
    "  \"size\": \"small\",\n",
    "  \"color\": \"yellow\"\n",
    "}\n",
    "for x, y in dict1.items():\n",
    "  print(x, y)"
   ]
  },
  {
   "cell_type": "code",
   "execution_count": null,
   "metadata": {},
   "outputs": [],
   "source": []
  }
 ],
 "metadata": {
  "kernelspec": {
   "display_name": "Python 3",
   "language": "python",
   "name": "python3"
  },
  "language_info": {
   "codemirror_mode": {
    "name": "ipython",
    "version": 3
   },
   "file_extension": ".py",
   "mimetype": "text/x-python",
   "name": "python",
   "nbconvert_exporter": "python",
   "pygments_lexer": "ipython3",
   "version": "3.7.3"
  }
 },
 "nbformat": 4,
 "nbformat_minor": 2
}
