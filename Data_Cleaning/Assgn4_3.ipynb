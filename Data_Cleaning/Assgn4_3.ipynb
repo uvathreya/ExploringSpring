{
  "nbformat": 4,
  "nbformat_minor": 0,
  "metadata": {
    "colab": {
      "name": "Assgn4_3.ipynb",
      "provenance": [],
      "collapsed_sections": [],
      "machine_shape": "hm"
    },
    "kernelspec": {
      "display_name": "Python 3",
      "language": "python",
      "name": "python3"
    },
    "language_info": {
      "codemirror_mode": {
        "name": "ipython",
        "version": 3
      },
      "file_extension": ".py",
      "mimetype": "text/x-python",
      "name": "python",
      "nbconvert_exporter": "python",
      "pygments_lexer": "ipython3",
      "version": "3.7.3"
    }
  },
  "cells": [
    {
      "cell_type": "markdown",
      "metadata": {
        "id": "JqUa6sG1F6mk",
        "colab_type": "text"
      },
      "source": [
        "Q)Use the random sampling, empirical distribution, sample comparison, bootstrap, hypothesis testing as well as A/B testing we discussed in the class to analyze the income gap between female and male employees."
      ]
    },
    {
      "cell_type": "code",
      "metadata": {
        "id": "gHjfUvxReh1X",
        "colab_type": "code",
        "outputId": "87701943-62eb-4cad-9fce-ff13321d615d",
        "colab": {
          "base_uri": "https://localhost:8080/",
          "height": 122
        }
      },
      "source": [
        "from google.colab import drive\n",
        "drive.mount('/content/drive')"
      ],
      "execution_count": 1,
      "outputs": [
        {
          "output_type": "stream",
          "text": [
            "Go to this URL in a browser: https://accounts.google.com/o/oauth2/auth?client_id=947318989803-6bn6qk8qdgf4n4g3pfee6491hc0brc4i.apps.googleusercontent.com&redirect_uri=urn%3aietf%3awg%3aoauth%3a2.0%3aoob&response_type=code&scope=email%20https%3a%2f%2fwww.googleapis.com%2fauth%2fdocs.test%20https%3a%2f%2fwww.googleapis.com%2fauth%2fdrive%20https%3a%2f%2fwww.googleapis.com%2fauth%2fdrive.photos.readonly%20https%3a%2f%2fwww.googleapis.com%2fauth%2fpeopleapi.readonly\n",
            "\n",
            "Enter your authorization code:\n",
            "··········\n",
            "Mounted at /content/drive\n"
          ],
          "name": "stdout"
        }
      ]
    },
    {
      "cell_type": "code",
      "metadata": {
        "id": "OrN1EmwGGVPS",
        "colab_type": "code",
        "colab": {}
      },
      "source": [
        "import matplotlib\n",
        "matplotlib.use('Agg')\n",
        "from datascience import *\n",
        "%matplotlib inline\n",
        "import matplotlib.pyplot as plt\n",
        "import numpy as np\n",
        "plt.style.use('fivethirtyeight')\n",
        "import math"
      ],
      "execution_count": 0,
      "outputs": []
    },
    {
      "cell_type": "markdown",
      "metadata": {
        "id": "0uzd1Q2YMc4h",
        "colab_type": "text"
      },
      "source": [
        "extracting previously saved data from csv into runtime"
      ]
    },
    {
      "cell_type": "code",
      "metadata": {
        "id": "dK6799Ufep69",
        "colab_type": "code",
        "colab": {}
      },
      "source": [
        "dataset = Table.read_table('../content/drive/My Drive/Colab Notebooks/Assignments_5502/4/incomes.csv')"
      ],
      "execution_count": 0,
      "outputs": []
    },
    {
      "cell_type": "code",
      "metadata": {
        "id": "_pPdefbrtZHx",
        "colab_type": "code",
        "outputId": "269ea58a-7583-4e2c-869b-cd6864c03c61",
        "colab": {
          "base_uri": "https://localhost:8080/",
          "height": 111
        }
      },
      "source": [
        "dataset.group('gender')"
      ],
      "execution_count": 10,
      "outputs": [
        {
          "output_type": "execute_result",
          "data": {
            "text/html": [
              "<table border=\"1\" class=\"dataframe\">\n",
              "    <thead>\n",
              "        <tr>\n",
              "            <th>gender</th> <th>count</th>\n",
              "        </tr>\n",
              "    </thead>\n",
              "    <tbody>\n",
              "        <tr>\n",
              "            <td>Female</td> <td>1627 </td>\n",
              "        </tr>\n",
              "        <tr>\n",
              "            <td>Male  </td> <td>9256 </td>\n",
              "        </tr>\n",
              "    </tbody>\n",
              "</table>"
            ],
            "text/plain": [
              "gender | count\n",
              "Female | 1627\n",
              "Male   | 9256"
            ]
          },
          "metadata": {
            "tags": []
          },
          "execution_count": 10
        }
      ]
    },
    {
      "cell_type": "markdown",
      "metadata": {
        "id": "usqKbbL9ti3a",
        "colab_type": "text"
      },
      "source": [
        "Finding the ratio of male to female to find the sample_proportion"
      ]
    },
    {
      "cell_type": "code",
      "metadata": {
        "id": "v6w51bDFth9c",
        "colab_type": "code",
        "colab": {}
      },
      "source": [
        "population_size = dataset.num_rows\n",
        "female_ratio = round((dataset.where('gender', are.equal_to('Female')).num_rows)/population_size, 1)\n",
        "male_ratio = round((dataset.where('gender', are.equal_to('Male')).num_rows)/population_size, 1)\n"
      ],
      "execution_count": 0,
      "outputs": []
    },
    {
      "cell_type": "markdown",
      "metadata": {
        "id": "ZghpAt4MtSSC",
        "colab_type": "text"
      },
      "source": [
        "Q) Select a sample from the population. Make sure your sample include 500 employees selected from the population, and consider how to ensure the sampling strategy is fair since the datasets include overwhelmed male employees than female employees (1 point)."
      ]
    },
    {
      "cell_type": "code",
      "metadata": {
        "id": "xqg3m_w6xaEX",
        "colab_type": "code",
        "colab": {}
      },
      "source": [
        "def generate_sample():\n",
        "  num_female_rows_in_Sample = int(female_ratio*500)\n",
        "  num_male_rows_in_Sample = int(male_ratio*500)\n",
        "  female_dataset = dataset.where('gender', are.equal_to('Female'))\n",
        "  female_sample = female_dataset.sample(num_female_rows_in_Sample)\n",
        "  male_dataset = dataset.where('gender', are.equal_to('Male'))\n",
        "  male_sample = male_dataset.sample(num_male_rows_in_Sample)\n",
        "  sample = female_sample.append(male_sample)\n",
        "  return sample"
      ],
      "execution_count": 0,
      "outputs": []
    },
    {
      "cell_type": "code",
      "metadata": {
        "id": "98ES8sIB_DMd",
        "colab_type": "code",
        "colab": {
          "base_uri": "https://localhost:8080/",
          "height": 388
        },
        "outputId": "fcd282b8-0751-4514-db6f-d40849bd41f8"
      },
      "source": [
        "generate_sample()"
      ],
      "execution_count": 68,
      "outputs": [
        {
          "output_type": "execute_result",
          "data": {
            "text/html": [
              "<table border=\"1\" class=\"dataframe\">\n",
              "    <thead>\n",
              "        <tr>\n",
              "            <th>gender</th> <th>appx_income</th>\n",
              "        </tr>\n",
              "    </thead>\n",
              "    <tbody>\n",
              "        <tr>\n",
              "            <td>Female</td> <td>65000      </td>\n",
              "        </tr>\n",
              "        <tr>\n",
              "            <td>Female</td> <td>45000      </td>\n",
              "        </tr>\n",
              "        <tr>\n",
              "            <td>Female</td> <td>15000      </td>\n",
              "        </tr>\n",
              "        <tr>\n",
              "            <td>Female</td> <td>15000      </td>\n",
              "        </tr>\n",
              "        <tr>\n",
              "            <td>Female</td> <td>25000      </td>\n",
              "        </tr>\n",
              "        <tr>\n",
              "            <td>Female</td> <td>25000      </td>\n",
              "        </tr>\n",
              "        <tr>\n",
              "            <td>Female</td> <td>15000      </td>\n",
              "        </tr>\n",
              "        <tr>\n",
              "            <td>Female</td> <td>35000      </td>\n",
              "        </tr>\n",
              "        <tr>\n",
              "            <td>Female</td> <td>55000      </td>\n",
              "        </tr>\n",
              "        <tr>\n",
              "            <td>Female</td> <td>95000      </td>\n",
              "        </tr>\n",
              "    </tbody>\n",
              "</table>\n",
              "<p>... (490 rows omitted)</p>"
            ],
            "text/plain": [
              "gender | appx_income\n",
              "Female | 65000\n",
              "Female | 45000\n",
              "Female | 15000\n",
              "Female | 15000\n",
              "Female | 25000\n",
              "Female | 25000\n",
              "Female | 15000\n",
              "Female | 35000\n",
              "Female | 55000\n",
              "Female | 95000\n",
              "... (490 rows omitted)"
            ]
          },
          "metadata": {
            "tags": []
          },
          "execution_count": 68
        }
      ]
    },
    {
      "cell_type": "markdown",
      "metadata": {
        "id": "I-bw0oq49_YO",
        "colab_type": "text"
      },
      "source": [
        "Q) Define test statistic, null hypothesis and alternative hypothesis (1 point)."
      ]
    },
    {
      "cell_type": "code",
      "metadata": {
        "id": "tu7LLfCSyGUe",
        "colab_type": "code",
        "outputId": "c1e86d8b-96d2-4085-e3fe-7c2a1829099c",
        "colab": {
          "base_uri": "https://localhost:8080/",
          "height": 111
        }
      },
      "source": [
        "medians_table = dataset.group('gender', np.median)\n",
        "medians_table"
      ],
      "execution_count": 13,
      "outputs": [
        {
          "output_type": "execute_result",
          "data": {
            "text/html": [
              "<table border=\"1\" class=\"dataframe\">\n",
              "    <thead>\n",
              "        <tr>\n",
              "            <th>gender</th> <th>appx_income median</th>\n",
              "        </tr>\n",
              "    </thead>\n",
              "    <tbody>\n",
              "        <tr>\n",
              "            <td>Female</td> <td>45000             </td>\n",
              "        </tr>\n",
              "        <tr>\n",
              "            <td>Male  </td> <td>55000             </td>\n",
              "        </tr>\n",
              "    </tbody>\n",
              "</table>"
            ],
            "text/plain": [
              "gender | appx_income median\n",
              "Female | 45000\n",
              "Male   | 55000"
            ]
          },
          "metadata": {
            "tags": []
          },
          "execution_count": 13
        }
      ]
    },
    {
      "cell_type": "markdown",
      "metadata": {
        "id": "8NCibkez-Suj",
        "colab_type": "text"
      },
      "source": [
        "**Test statistic** here is the income_gap interms of median income values which is 10000 as observed from the population"
      ]
    },
    {
      "cell_type": "code",
      "metadata": {
        "id": "Li3dnwD4yls4",
        "colab_type": "code",
        "outputId": "267c54d6-0713-4852-dca6-273745b27e21",
        "colab": {
          "base_uri": "https://localhost:8080/",
          "height": 34
        }
      },
      "source": [
        "medians = medians_table.column(1)\n",
        "pop_income_gap = medians.item(1) - medians.item(0)\n",
        "pop_income_gap"
      ],
      "execution_count": 31,
      "outputs": [
        {
          "output_type": "execute_result",
          "data": {
            "text/plain": [
              "10000.0"
            ]
          },
          "metadata": {
            "tags": []
          },
          "execution_count": 31
        }
      ]
    },
    {
      "cell_type": "markdown",
      "metadata": {
        "id": "HrzJDmfs-pKV",
        "colab_type": "text"
      },
      "source": [
        "**Null Hypotheses**:  In the population, Income gap between Male employees and Female employees is at most $10,000. If there is a significant difference observed, it is due to chance."
      ]
    },
    {
      "cell_type": "markdown",
      "metadata": {
        "id": "zmtC9Url-r8S",
        "colab_type": "text"
      },
      "source": [
        "**Alternate Hypotheses:** In the population, Male employees have greater median income when compared to the Female employees. The difference in incomes is more than $10,000\n"
      ]
    },
    {
      "cell_type": "markdown",
      "metadata": {
        "id": "lD2d6HbdAYLy",
        "colab_type": "text"
      },
      "source": [
        "Q) Draw the income histogram for the sample, calculate the median income of the sample, and draw a red\n",
        "dot and a yellow dot of the female median income and male median income of the population, respectively,\n",
        "in the histogram (1 point)."
      ]
    },
    {
      "cell_type": "code",
      "metadata": {
        "id": "PMdB_jhWBO-v",
        "colab_type": "code",
        "outputId": "25174229-9449-49f1-8014-7bf81ad62ec3",
        "colab": {
          "base_uri": "https://localhost:8080/",
          "height": 111
        }
      },
      "source": [
        "original_sample = generate_sample()\n",
        "sample_medians_table = original_sample.group('gender', np.median)\n",
        "sample_medians_table"
      ],
      "execution_count": 15,
      "outputs": [
        {
          "output_type": "execute_result",
          "data": {
            "text/html": [
              "<table border=\"1\" class=\"dataframe\">\n",
              "    <thead>\n",
              "        <tr>\n",
              "            <th>gender</th> <th>appx_income median</th>\n",
              "        </tr>\n",
              "    </thead>\n",
              "    <tbody>\n",
              "        <tr>\n",
              "            <td>Female</td> <td>45000             </td>\n",
              "        </tr>\n",
              "        <tr>\n",
              "            <td>Male  </td> <td>55000             </td>\n",
              "        </tr>\n",
              "    </tbody>\n",
              "</table>"
            ],
            "text/plain": [
              "gender | appx_income median\n",
              "Female | 45000\n",
              "Male   | 55000"
            ]
          },
          "metadata": {
            "tags": []
          },
          "execution_count": 15
        }
      ]
    },
    {
      "cell_type": "code",
      "metadata": {
        "id": "j8dmvkUCBdeR",
        "colab_type": "code",
        "outputId": "41fe8120-9c6b-47cc-bf98-c4f06f184707",
        "colab": {
          "base_uri": "https://localhost:8080/",
          "height": 34
        }
      },
      "source": [
        "sample_medians = sample_medians_table.column(1)\n",
        "sample_observed_gap = sample_medians.item(1) - sample_medians.item(0)\n",
        "sample_observed_gap"
      ],
      "execution_count": 16,
      "outputs": [
        {
          "output_type": "execute_result",
          "data": {
            "text/plain": [
              "10000.0"
            ]
          },
          "metadata": {
            "tags": []
          },
          "execution_count": 16
        }
      ]
    },
    {
      "cell_type": "code",
      "metadata": {
        "id": "YtPQfuJsAmoS",
        "colab_type": "code",
        "outputId": "4a838e62-2799-4f69-cc4b-4a8a887aec79",
        "colab": {
          "base_uri": "https://localhost:8080/",
          "height": 337
        }
      },
      "source": [
        "original_sample.hist('appx_income', group='gender', bins = range(5000, 150000, 20000))\n",
        "plt.scatter(sample_medians.item(0), 0, color='red', s=60)\n",
        "plt.scatter(sample_medians.item(1), 0, color='yellow', s=40)"
      ],
      "execution_count": 17,
      "outputs": [
        {
          "output_type": "execute_result",
          "data": {
            "text/plain": [
              "<matplotlib.collections.PathCollection at 0x7fa7952e8828>"
            ]
          },
          "metadata": {
            "tags": []
          },
          "execution_count": 17
        },
        {
          "output_type": "display_data",
          "data": {
            "image/png": "[encoded data removed]",
            "text/plain": [
              "<Figure size 432x288 with 1 Axes>"
            ]
          },
          "metadata": {
            "tags": []
          }
        }
      ]
    },
    {
      "cell_type": "markdown",
      "metadata": {
        "id": "LHtcIM2gCnLo",
        "colab_type": "text"
      },
      "source": [
        "Q) Draw the histogram of the test statistic of the sample, and draw a red dot to show the corresponding test statistic of the population (e.g. the difference of the median incomes between female and male employees) in the diagram (1 point)."
      ]
    },
    {
      "cell_type": "code",
      "metadata": {
        "id": "_CBF69OO3nL2",
        "colab_type": "code",
        "colab": {}
      },
      "source": [
        "def difference_of_medians(table, label, group_label):\n",
        "    reduced = table.select(label, group_label)\n",
        "    medians_table = reduced.group(group_label, np.median)\n",
        "    medians = medians_table.column(1)\n",
        "    return medians.item(1) - medians.item(0)"
      ],
      "execution_count": 0,
      "outputs": []
    },
    {
      "cell_type": "markdown",
      "metadata": {
        "id": "s4OROc_G5eYa",
        "colab_type": "text"
      },
      "source": [
        "A/B testing. Empirical distribution of Median income gap"
      ]
    },
    {
      "cell_type": "code",
      "metadata": {
        "id": "R-d6xRUIIsVl",
        "colab_type": "code",
        "colab": {}
      },
      "source": [
        "def one_simulated_difference(table, label, group_label):\n",
        "    shuffled_labels = table.sample(with_replacement = False).column(0)\n",
        "    shuffled_table = table.with_column('Shuffled Label', shuffled_labels)\n",
        "    return difference_of_medians(shuffled_table, label, 'Shuffled Label')    "
      ],
      "execution_count": 0,
      "outputs": []
    },
    {
      "cell_type": "code",
      "metadata": {
        "id": "bJQZG4AXIGXf",
        "colab_type": "code",
        "colab": {}
      },
      "source": [
        "sample_income_gap = one_simulated_difference(original_sample, 'appx_income', 'gender')\n",
        "differences = make_array()\n",
        "repetitions = 5000\n",
        "for i in np.arange(repetitions):\n",
        "    new_difference = one_simulated_difference(original_sample, 'appx_income', 'gender')\n",
        "    differences = np.append(differences, new_difference)                               "
      ],
      "execution_count": 0,
      "outputs": []
    },
    {
      "cell_type": "code",
      "metadata": {
        "id": "Ii0nl3F_KrqZ",
        "colab_type": "code",
        "outputId": "5c8321b5-3cce-4067-f2a3-914fc12fd71c",
        "colab": {
          "base_uri": "https://localhost:8080/",
          "height": 356
        }
      },
      "source": [
        "Table().with_column('Difference Between Male & Female income Medians', differences).hist()\n",
        "plt.scatter(sample_observed_gap, 0, color='red', s=60)\n",
        "plt.title('Prediction Under the Null Hypothesis');"
      ],
      "execution_count": 25,
      "outputs": [
        {
          "output_type": "display_data",
          "data": {
            "image/png": "[encoded data removed]",
            "text/plain": [
              "<Figure size 432x288 with 1 Axes>"
            ]
          },
          "metadata": {
            "tags": []
          }
        }
      ]
    },
    {
      "cell_type": "markdown",
      "metadata": {
        "id": "wwJcthTGENM1",
        "colab_type": "text"
      },
      "source": [
        "Finding the empirical P-value based on A/B testing"
      ]
    },
    {
      "cell_type": "code",
      "metadata": {
        "id": "l114D66BEL8D",
        "colab_type": "code",
        "colab": {
          "base_uri": "https://localhost:8080/",
          "height": 34
        },
        "outputId": "26200cbf-ac21-4261-c070-cdc9e0f40a12"
      },
      "source": [
        "empirical_P = np.count_nonzero(differences <= sample_observed_gap) / 5000\n",
        "print('P-value caluclated from A/B testing is:', empirical_P*100, 'which is the percentage of values less than or equal to $10,000')"
      ],
      "execution_count": 80,
      "outputs": [
        {
          "output_type": "stream",
          "text": [
            "P-value caluclated from A/B testing is: 85.08 which is the percentage of values less than or equal to $10,000\n"
          ],
          "name": "stdout"
        }
      ]
    },
    {
      "cell_type": "markdown",
      "metadata": {
        "colab_type": "text",
        "id": "aWzDSLxBLu-e"
      },
      "source": [
        "Q) Write a procedure to use bootstrap to produce at least 5000 samples (1 point)."
      ]
    },
    {
      "cell_type": "code",
      "metadata": {
        "id": "4ajPieGxDjp4",
        "colab_type": "code",
        "colab": {}
      },
      "source": [
        "def generate_bootstrap_samples(table, replications):\n",
        "    bootstrap_medians_diff = make_array()\n",
        "    for i in np.arange(replications):\n",
        "        bootstrap_sample = table.sample()\n",
        "        resampled_median_diff = difference_of_medians(bootstrap_sample, 'appx_income', 'gender')\n",
        "        bootstrap_medians_diff = np.append(bootstrap_medians_diff, resampled_median_diff)\n",
        "    return bootstrap_medians_diff"
      ],
      "execution_count": 0,
      "outputs": []
    },
    {
      "cell_type": "code",
      "metadata": {
        "id": "fpKqm9NMD5Xr",
        "colab_type": "code",
        "colab": {}
      },
      "source": [
        "bstrap_medians_diff = generate_bootstrap_samples(original_sample, 5000)"
      ],
      "execution_count": 0,
      "outputs": []
    },
    {
      "cell_type": "markdown",
      "metadata": {
        "id": "qsn2v7lEEuCd",
        "colab_type": "text"
      },
      "source": [
        "Draw the histogram of the test statistic of the bootstrap samples (1 point)."
      ]
    },
    {
      "cell_type": "code",
      "metadata": {
        "id": "nxjRP3eIEOq-",
        "colab_type": "code",
        "colab": {
          "base_uri": "https://localhost:8080/",
          "height": 335
        },
        "outputId": "70d1939a-d164-49c3-b494-c5a12c39f9d2"
      },
      "source": [
        "Table().with_column('Bootstrap Sample Median differences', bstrap_medians_diff).hist(bins = range(-20000, 50000, 10000))"
      ],
      "execution_count": 57,
      "outputs": [
        {
          "output_type": "display_data",
          "data": {
            "image/png": "[encoded data removed]",
            "text/plain": [
              "<Figure size 432x288 with 1 Axes>"
            ]
          },
          "metadata": {
            "tags": []
          }
        }
      ]
    },
    {
      "cell_type": "markdown",
      "metadata": {
        "id": "BkvOwLCqFGk1",
        "colab_type": "text"
      },
      "source": [
        "Finding the empirical P-value based on A/B testing"
      ]
    },
    {
      "cell_type": "code",
      "metadata": {
        "id": "QACaP4D8FLR4",
        "colab_type": "code",
        "colab": {
          "base_uri": "https://localhost:8080/",
          "height": 34
        },
        "outputId": "16b053b2-05b4-4bc1-b097-55c58ded4d92"
      },
      "source": [
        "bstrp_samp_p_value = np.count_nonzero( bstrap_medians_diff<= sample_observed_gap) / 5000\n",
        "print('P-value caluclated from Bootstrap samples is:', bstrp_samp_p_value*100, 'which is the percentage of values less than or equal to $10,000')"
      ],
      "execution_count": 79,
      "outputs": [
        {
          "output_type": "stream",
          "text": [
            "P-value caluclated from Bootstrap samples is: 82.0 which is the percentage of values less than or equal to $10,000\n"
          ],
          "name": "stdout"
        }
      ]
    },
    {
      "cell_type": "markdown",
      "metadata": {
        "id": "k4wIfMBtOTwD",
        "colab_type": "text"
      },
      "source": [
        "Q) Define confidence interval and P-value to validate the hypothesis you defined (2 points)."
      ]
    },
    {
      "cell_type": "markdown",
      "metadata": {
        "id": "igrLhYYQ1fzL",
        "colab_type": "text"
      },
      "source": [
        "Defining cutoff value for the P-value as 5% hence confidence interval of 95%"
      ]
    },
    {
      "cell_type": "code",
      "metadata": {
        "id": "38N6qmZZjW54",
        "colab_type": "code",
        "colab": {
          "base_uri": "https://localhost:8080/",
          "height": 34
        },
        "outputId": "119446f7-60b5-46d5-cce6-527a9051dd46"
      },
      "source": [
        "left = percentile(2.5, bstrap_medians_diff)\n",
        "right = percentile(97.5, bstrap_medians_diff)\n",
        "print('95% confidence interval is: ', make_array(left,right))"
      ],
      "execution_count": 50,
      "outputs": [
        {
          "output_type": "stream",
          "text": [
            "95% confidence interval is:  [-10000.  20000.]\n"
          ],
          "name": "stdout"
        }
      ]
    },
    {
      "cell_type": "code",
      "metadata": {
        "id": "qI3P1swgpVGN",
        "colab_type": "code",
        "colab": {
          "base_uri": "https://localhost:8080/",
          "height": 54
        },
        "outputId": "3a2eb445-e7bc-42da-9481-285b66ec0164"
      },
      "source": [
        "if (bstrp_samp_p_value >= right):\n",
        "  print('Empirical distribution supports null hypotheses that income gap between male and female employees is atmost $10,000 as the emperical P-value caluclated is equal to or greater than 95%')\n",
        "else :\n",
        "  print('Empirical distribution supports alternate hypotheses that income gap between male and female employees is greater than $10,000 as the emperical P-value caluclated is less than 95%')"
      ],
      "execution_count": 78,
      "outputs": [
        {
          "output_type": "stream",
          "text": [
            "Empirical distribution supports alternate hypotheses that income gap between male and female employees is greater than $10,000 as the emperical P-value caluclated is less than 95%\n"
          ],
          "name": "stdout"
        }
      ]
    },
    {
      "cell_type": "markdown",
      "metadata": {
        "id": "xU6dMfsmm2GW",
        "colab_type": "text"
      },
      "source": [
        "Empirical histogram of the 5,000 bootstrapped means is shown below, along with the 95% confidence interval for the population mean."
      ]
    },
    {
      "cell_type": "code",
      "metadata": {
        "id": "608DSJmxmDv0",
        "colab_type": "code",
        "colab": {
          "base_uri": "https://localhost:8080/",
          "height": 335
        },
        "outputId": "232fcd45-f618-4103-cca3-9af35e2fdc10"
      },
      "source": [
        "Table().with_column('Bootstrap Sample Median differences', bstrap_medians_diff).hist(bins = range(-20000, 50000, 10000))\n",
        "plt.plot(make_array(left, right), make_array(0, 0), color='yellow', lw=3);\n",
        "plt.scatter(pop_income_gap, 0, color='red', s=60);"
      ],
      "execution_count": 58,
      "outputs": [
        {
          "output_type": "display_data",
          "data": {
            "image/png": "[encoded data removed]",
            "text/plain": [
              "<Figure size 432x288 with 1 Axes>"
            ]
          },
          "metadata": {
            "tags": []
          }
        }
      ]
    },
    {
      "cell_type": "markdown",
      "metadata": {
        "id": "UkWJ9OXHG3Hr",
        "colab_type": "text"
      },
      "source": [
        "Validation of Hypotheses"
      ]
    },
    {
      "cell_type": "code",
      "metadata": {
        "id": "5aoRergLHAet",
        "colab_type": "code",
        "colab": {
          "base_uri": "https://localhost:8080/",
          "height": 34
        },
        "outputId": "72fe0911-0129-414d-82a9-cda145b3277a"
      },
      "source": [
        "if (bstrp_samp_p_value >= right):\n",
        "  print('we accept null hypotheses as Empirical P-value of: ', (bstrp_samp_p_value*100), '% more than the defined Empirical P-value of 95%')\n",
        "else :\n",
        "  print('we reject null hypotheses as Empirical P-value of: ', (bstrp_samp_p_value*100), '% is less than the defined Empirical P-value of 95%')"
      ],
      "execution_count": 82,
      "outputs": [
        {
          "output_type": "stream",
          "text": [
            "we reject null hypotheses as  0.82 % income gap values are out of the given confidence level\n"
          ],
          "name": "stdout"
        }
      ]
    }
  ]
}