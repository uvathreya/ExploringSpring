{
 "cells": [
  {
   "cell_type": "code",
   "execution_count": 5,
   "metadata": {
    "collapsed": true
   },
   "outputs": [
    {
     "name": "stdout",
     "output_type": "stream",
     "text": [
      "Unnamed: 0 | continent         | country               | 1979      | 1980 | 1981 | 1982 | 1983 | 1984 | 1985 | 1986 | 1987 | 1988 | 1989 | 1990 | 1991 | 1992 | 1993 | 1994 | 1995 | 1996 | 1997 | 1998 | 1999 | 2000 | 2001 | 2002 | 2003 | 2004 | 2005 | 2006 | 2007 | 2008 | 2009 | 2010 | 2011\n",
      "0          | Rest of the world | Abkhazia              | nan       | nan  | nan  | nan  | nan  | nan  | nan  | nan  | nan  | nan  | nan  | nan  | nan  | nan  | nan  | nan  | nan  | nan  | nan  | nan  | nan  | nan  | nan  | nan  | nan  | nan  | nan  | nan  | nan  | nan  | nan  | nan  | nan\n",
      "1          | Asia              | Afghanistan           | nan       | nan  | nan  | nan  | nan  | nan  | nan  | nan  | nan  | nan  | nan  | nan  | nan  | nan  | nan  | nan  | nan  | nan  | nan  | nan  | nan  | nan  | nan  | nan  | nan  | nan  | nan  | nan  | nan  | nan  | 0.06 | 0.06 | 0.06\n",
      "2          | Rest of the world | Akrotiri and Dhekelia | nan       | nan  | nan  | nan  | nan  | nan  | nan  | nan  | nan  | nan  | nan  | nan  | nan  | nan  | nan  | nan  | nan  | nan  | nan  | nan  | nan  | nan  | nan  | nan  | nan  | nan  | nan  | nan  | nan  | nan  | nan  | nan  | nan\n",
      "3          | Europe            | Albania               | nan       | nan  | nan  | nan  | nan  | nan  | nan  | nan  | nan  | nan  | nan  | nan  | nan  | nan  | nan  | nan  | nan  | nan  | nan  | nan  | nan  | nan  | nan  | nan  | nan  | nan  | nan  | nan  | nan  | nan  | nan  | nan  | nan\n",
      "4          | Africa            | Algeria               | nan       | nan  | nan  | nan  | nan  | nan  | nan  | nan  | nan  | nan  | nan  | 0.06 | 0.06 | 0.06 | 0.06 | 0.06 | 0.06 | 0.06 | 0.06 | 0.06 | 0.06 | 0.06 | 0.06 | 0.06 | 0.06 | 0.1  | 0.1  | 0.1  | 0.1  | 0.1  | nan  | nan  | nan\n",
      "5          | Australia/Oceania | American Samoa        | nan       | nan  | nan  | nan  | nan  | nan  | nan  | nan  | nan  | nan  | nan  | nan  | nan  | nan  | nan  | nan  | nan  | nan  | nan  | nan  | nan  | nan  | nan  | nan  | nan  | nan  | nan  | nan  | nan  | nan  | nan  | nan  | nan\n",
      "6          | Europe            | Andorra               | nan       | nan  | nan  | nan  | nan  | nan  | nan  | nan  | nan  | nan  | nan  | nan  | nan  | nan  | nan  | nan  | nan  | nan  | nan  | nan  | nan  | nan  | nan  | nan  | nan  | nan  | nan  | nan  | nan  | nan  | nan  | nan  | nan\n",
      "7          | Africa            | Angola                | 0.0265279 | nan  | nan  | nan  | nan  | nan  | nan  | nan  | nan  | nan  | nan  | 0.5  | 0.8  | 1    | 1.2  | 1.4  | 1.6  | 1.7  | 1.8  | 1.8  | 1.9  | 1.9  | 1.9  | 1.9  | 1.9  | 1.9  | 1.9  | 1.9  | 1.9  | 2    | 2.1  | 2.1  | 2.1\n",
      "8          | North America     | Anguilla              | nan       | nan  | nan  | nan  | nan  | nan  | nan  | nan  | nan  | nan  | nan  | nan  | nan  | nan  | nan  | nan  | nan  | nan  | nan  | nan  | nan  | nan  | nan  | nan  | nan  | nan  | nan  | nan  | nan  | nan  | nan  | nan  | nan\n",
      "9          | North America     | Antigua and Barbuda   | nan       | nan  | nan  | nan  | nan  | nan  | nan  | nan  | nan  | nan  | nan  | nan  | nan  | nan  | nan  | nan  | nan  | nan  | nan  | nan  | nan  | nan  | nan  | nan  | nan  | nan  | nan  | nan  | nan  | nan  | nan  | nan  | nan\n",
      "... (265 rows omitted)\n"
     ]
    }
   ],
   "source": [
    "from datascience import Table\n",
    "hiv_prev_table = Table.read_table('./estimated_hiv_prevelance_indicator.csv')\n",
    "print(hiv_prev_table)"
   ]
  },
  {
   "cell_type": "code",
   "execution_count": 6,
   "metadata": {},
   "outputs": [],
   "source": [
    "import math\n",
    "sel_cols = ['continent', 'country', '2000', '2001', '2002', '2003', '2004', '2005', '2006', '2007', '2008', '2009', '2010', '2011']\n",
    "hiv_prev_data_2000_2011 = hiv_prev_table.select(sel_cols)\n",
    "hiv_prev_data_2000_2011['avg_hiv_prev_val'] = 0.0"
   ]
  },
  {
   "cell_type": "code",
   "execution_count": 7,
   "metadata": {
    "collapsed": true
   },
   "outputs": [
    {
     "name": "stdout",
     "output_type": "stream",
     "text": [
      "continent         | country               | 2000 | 2001 | 2002 | 2003 | 2004 | 2005 | 2006 | 2007 | 2008 | 2009 | 2010 | 2011 | avg_hiv_prev_val\n",
      "Rest of the world | Abkhazia              | nan  | nan  | nan  | nan  | nan  | nan  | nan  | nan  | nan  | nan  | nan  | nan  | 0\n",
      "Asia              | Afghanistan           | nan  | nan  | nan  | nan  | nan  | nan  | nan  | nan  | nan  | 0.06 | 0.06 | 0.06 | 0.06\n",
      "Rest of the world | Akrotiri and Dhekelia | nan  | nan  | nan  | nan  | nan  | nan  | nan  | nan  | nan  | nan  | nan  | nan  | 0\n",
      "Europe            | Albania               | nan  | nan  | nan  | nan  | nan  | nan  | nan  | nan  | nan  | nan  | nan  | nan  | 0\n",
      "Africa            | Algeria               | 0.06 | 0.06 | 0.06 | 0.06 | 0.1  | 0.1  | 0.1  | 0.1  | 0.1  | nan  | nan  | nan  | 0.0822222\n",
      "Australia/Oceania | American Samoa        | nan  | nan  | nan  | nan  | nan  | nan  | nan  | nan  | nan  | nan  | nan  | nan  | 0\n",
      "Europe            | Andorra               | nan  | nan  | nan  | nan  | nan  | nan  | nan  | nan  | nan  | nan  | nan  | nan  | 0\n",
      "Africa            | Angola                | 1.9  | 1.9  | 1.9  | 1.9  | 1.9  | 1.9  | 1.9  | 1.9  | 2    | 2.1  | 2.1  | 2.1  | 1.95833\n",
      "North America     | Anguilla              | nan  | nan  | nan  | nan  | nan  | nan  | nan  | nan  | nan  | nan  | nan  | nan  | 0\n",
      "North America     | Antigua and Barbuda   | nan  | nan  | nan  | nan  | nan  | nan  | nan  | nan  | nan  | nan  | nan  | nan  | 0\n",
      "... (265 rows omitted)\n"
     ]
    }
   ],
   "source": [
    "no_of_countries = range(hiv_prev_data_2000_2011.num_rows)\n",
    "for i in no_of_countries:\n",
    "    count = 0\n",
    "    avg_hiv_prev_val= 0\n",
    "    for j in range(2,14):\n",
    "        if (math.isnan(hiv_prev_data_2000_2011.row(i)[j])):\n",
    "            continue\n",
    "        else:\n",
    "            count += 1\n",
    "            avg_hiv_prev_val += hiv_prev_data_2000_2011.row(i)[j]\n",
    "    if (count != 0):\n",
    "        hiv_prev_data_2000_2011['avg_hiv_prev_val'][i] = avg_hiv_prev_val/count\n",
    "print(hiv_prev_data_2000_2011)"
   ]
  },
  {
   "cell_type": "code",
   "execution_count": 29,
   "metadata": {},
   "outputs": [
    {
     "name": "stdout",
     "output_type": "stream",
     "text": [
      "i 0\n"
     ]
    },
    {
     "ename": "TypeError",
     "evalue": "list indices must be integers or slices, not str",
     "output_type": "error",
     "traceback": [
      "\u001b[1;31m---------------------------------------------------------------------------\u001b[0m",
      "\u001b[1;31mTypeError\u001b[0m                                 Traceback (most recent call last)",
      "\u001b[1;32m<ipython-input-29-3c6776e28f9f>\u001b[0m in \u001b[0;36m<module>\u001b[1;34m\u001b[0m\n\u001b[0;32m      2\u001b[0m \u001b[1;32mfor\u001b[0m \u001b[0mi\u001b[0m \u001b[1;32min\u001b[0m \u001b[0mrange\u001b[0m\u001b[1;33m(\u001b[0m\u001b[0mcount\u001b[0m\u001b[1;33m)\u001b[0m\u001b[1;33m:\u001b[0m\u001b[1;33m\u001b[0m\u001b[1;33m\u001b[0m\u001b[0m\n\u001b[0;32m      3\u001b[0m     \u001b[0mprint\u001b[0m\u001b[1;33m(\u001b[0m\u001b[1;34m'i'\u001b[0m\u001b[1;33m,\u001b[0m \u001b[0mi\u001b[0m\u001b[1;33m)\u001b[0m\u001b[1;33m\u001b[0m\u001b[1;33m\u001b[0m\u001b[0m\n\u001b[1;32m----> 4\u001b[1;33m     \u001b[1;32mif\u001b[0m \u001b[1;33m(\u001b[0m\u001b[0mhiv_prev_data_2000_2011\u001b[0m\u001b[1;33m[\u001b[0m\u001b[0mi\u001b[0m\u001b[1;33m]\u001b[0m\u001b[1;33m[\u001b[0m\u001b[1;34m'avg_hiv_prev_val'\u001b[0m\u001b[1;33m]\u001b[0m \u001b[1;33m==\u001b[0m \u001b[1;36m0.0\u001b[0m\u001b[1;33m)\u001b[0m\u001b[1;33m:\u001b[0m\u001b[1;33m\u001b[0m\u001b[1;33m\u001b[0m\u001b[0m\n\u001b[0m\u001b[0;32m      5\u001b[0m         \u001b[0mhiv_prev_data_2000_2011\u001b[0m\u001b[1;33m.\u001b[0m\u001b[0mremove\u001b[0m\u001b[1;33m(\u001b[0m\u001b[0mi\u001b[0m\u001b[1;33m)\u001b[0m\u001b[1;33m\u001b[0m\u001b[1;33m\u001b[0m\u001b[0m\n\u001b[0;32m      6\u001b[0m     \u001b[1;32melse\u001b[0m \u001b[1;33m:\u001b[0m\u001b[1;33m\u001b[0m\u001b[1;33m\u001b[0m\u001b[0m\n",
      "\u001b[1;31mTypeError\u001b[0m: list indices must be integers or slices, not str"
     ]
    }
   ],
   "source": [
    "count = hiv_prev_data_2000_2011.num_rows\n",
    "for i in range(count):\n",
    "    print('i', i)\n",
    "    if (hiv_prev_data_2000_2011[i]['avg_hiv_prev_val'] == 0.0):\n",
    "        hiv_prev_data_2000_2011.remove(i)\n",
    "        count = hiv_prev_data_2000_2011.num_rows\n",
    "    else :\n",
    "          i+=1\n",
    "print(hiv_prev_data_2000_2011)"
   ]
  },
  {
   "cell_type": "code",
   "execution_count": null,
   "metadata": {},
   "outputs": [],
   "source": [
    "hiv_prev_data_avg_2000_2011 = hiv_prev_data_2000_2011.select('continent','country','avg_hiv_prev_val')\n",
    "#print(hiv_prev_data_avg_2000_2011)\n",
    "cont_high_hiv_prev_data = hiv_prev_data_avg_2000_2011.group(\"continent\", max)\n",
    "cont_low_hiv_prev_data = hiv_prev_data_avg_2000_2011.group(\"continent\", min)"
   ]
  }
 ],
 "metadata": {
  "kernelspec": {
   "display_name": "Python 3",
   "language": "python",
   "name": "python3"
  },
  "language_info": {
   "codemirror_mode": {
    "name": "ipython",
    "version": 3
   },
   "file_extension": ".py",
   "mimetype": "text/x-python",
   "name": "python",
   "nbconvert_exporter": "python",
   "pygments_lexer": "ipython3",
   "version": "3.7.3"
  }
 },
 "nbformat": 4,
 "nbformat_minor": 2
}
