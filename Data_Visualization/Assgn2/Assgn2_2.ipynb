{
 "cells": [
  {
   "cell_type": "code",
   "execution_count": 5,
   "metadata": {
    "collapsed": true
   },
   "outputs": [
    {
     "name": "stdout",
     "output_type": "stream",
     "text": [
      "Unnamed: 0 | continent         | country               | 1979      | 1980 | 1981 | 1982 | 1983 | 1984 | 1985 | 1986 | 1987 | 1988 | 1989 | 1990 | 1991 | 1992 | 1993 | 1994 | 1995 | 1996 | 1997 | 1998 | 1999 | 2000 | 2001 | 2002 | 2003 | 2004 | 2005 | 2006 | 2007 | 2008 | 2009 | 2010 | 2011\n",
      "0          | Rest of the world | Abkhazia              | nan       | nan  | nan  | nan  | nan  | nan  | nan  | nan  | nan  | nan  | nan  | nan  | nan  | nan  | nan  | nan  | nan  | nan  | nan  | nan  | nan  | nan  | nan  | nan  | nan  | nan  | nan  | nan  | nan  | nan  | nan  | nan  | nan\n",
      "1          | Asia              | Afghanistan           | nan       | nan  | nan  | nan  | nan  | nan  | nan  | nan  | nan  | nan  | nan  | nan  | nan  | nan  | nan  | nan  | nan  | nan  | nan  | nan  | nan  | nan  | nan  | nan  | nan  | nan  | nan  | nan  | nan  | nan  | 0.06 | 0.06 | 0.06\n",
      "2          | Rest of the world | Akrotiri and Dhekelia | nan       | nan  | nan  | nan  | nan  | nan  | nan  | nan  | nan  | nan  | nan  | nan  | nan  | nan  | nan  | nan  | nan  | nan  | nan  | nan  | nan  | nan  | nan  | nan  | nan  | nan  | nan  | nan  | nan  | nan  | nan  | nan  | nan\n",
      "3          | Europe            | Albania               | nan       | nan  | nan  | nan  | nan  | nan  | nan  | nan  | nan  | nan  | nan  | nan  | nan  | nan  | nan  | nan  | nan  | nan  | nan  | nan  | nan  | nan  | nan  | nan  | nan  | nan  | nan  | nan  | nan  | nan  | nan  | nan  | nan\n",
      "4          | Africa            | Algeria               | nan       | nan  | nan  | nan  | nan  | nan  | nan  | nan  | nan  | nan  | nan  | 0.06 | 0.06 | 0.06 | 0.06 | 0.06 | 0.06 | 0.06 | 0.06 | 0.06 | 0.06 | 0.06 | 0.06 | 0.06 | 0.06 | 0.1  | 0.1  | 0.1  | 0.1  | 0.1  | nan  | nan  | nan\n",
      "5          | Australia/Oceania | American Samoa        | nan       | nan  | nan  | nan  | nan  | nan  | nan  | nan  | nan  | nan  | nan  | nan  | nan  | nan  | nan  | nan  | nan  | nan  | nan  | nan  | nan  | nan  | nan  | nan  | nan  | nan  | nan  | nan  | nan  | nan  | nan  | nan  | nan\n",
      "6          | Europe            | Andorra               | nan       | nan  | nan  | nan  | nan  | nan  | nan  | nan  | nan  | nan  | nan  | nan  | nan  | nan  | nan  | nan  | nan  | nan  | nan  | nan  | nan  | nan  | nan  | nan  | nan  | nan  | nan  | nan  | nan  | nan  | nan  | nan  | nan\n",
      "7          | Africa            | Angola                | 0.0265279 | nan  | nan  | nan  | nan  | nan  | nan  | nan  | nan  | nan  | nan  | 0.5  | 0.8  | 1    | 1.2  | 1.4  | 1.6  | 1.7  | 1.8  | 1.8  | 1.9  | 1.9  | 1.9  | 1.9  | 1.9  | 1.9  | 1.9  | 1.9  | 1.9  | 2    | 2.1  | 2.1  | 2.1\n",
      "8          | North America     | Anguilla              | nan       | nan  | nan  | nan  | nan  | nan  | nan  | nan  | nan  | nan  | nan  | nan  | nan  | nan  | nan  | nan  | nan  | nan  | nan  | nan  | nan  | nan  | nan  | nan  | nan  | nan  | nan  | nan  | nan  | nan  | nan  | nan  | nan\n",
      "9          | North America     | Antigua and Barbuda   | nan       | nan  | nan  | nan  | nan  | nan  | nan  | nan  | nan  | nan  | nan  | nan  | nan  | nan  | nan  | nan  | nan  | nan  | nan  | nan  | nan  | nan  | nan  | nan  | nan  | nan  | nan  | nan  | nan  | nan  | nan  | nan  | nan\n",
      "... (265 rows omitted)\n"
     ]
    }
   ],
   "source": [
    "from datascience import Table\n",
    "hiv_prev_table = Table.read_table('./estimated_hiv_prevelance_indicator.csv')\n",
    "print(hiv_prev_table)"
   ]
  },
  {
   "cell_type": "code",
   "execution_count": 6,
   "metadata": {},
   "outputs": [],
   "source": [
    "import math\n",
    "sel_cols = ['continent', 'country', '2000', '2001', '2002', '2003', '2004', '2005', '2006', '2007', '2008', '2009', '2010', '2011']\n",
    "hiv_prev_data_2000_2011 = hiv_prev_table.select(sel_cols)\n",
    "hiv_prev_data_2000_2011['avg_hiv_prev_val'] = 0.0"
   ]
  },
  {
   "cell_type": "code",
   "execution_count": 7,
   "metadata": {
    "collapsed": true
   },
   "outputs": [
    {
     "name": "stdout",
     "output_type": "stream",
     "text": [
      "continent         | country               | 2000 | 2001 | 2002 | 2003 | 2004 | 2005 | 2006 | 2007 | 2008 | 2009 | 2010 | 2011 | avg_hiv_prev_val\n",
      "Rest of the world | Abkhazia              | nan  | nan  | nan  | nan  | nan  | nan  | nan  | nan  | nan  | nan  | nan  | nan  | 0\n",
      "Asia              | Afghanistan           | nan  | nan  | nan  | nan  | nan  | nan  | nan  | nan  | nan  | 0.06 | 0.06 | 0.06 | 0.06\n",
      "Rest of the world | Akrotiri and Dhekelia | nan  | nan  | nan  | nan  | nan  | nan  | nan  | nan  | nan  | nan  | nan  | nan  | 0\n",
      "Europe            | Albania               | nan  | nan  | nan  | nan  | nan  | nan  | nan  | nan  | nan  | nan  | nan  | nan  | 0\n",
      "Africa            | Algeria               | 0.06 | 0.06 | 0.06 | 0.06 | 0.1  | 0.1  | 0.1  | 0.1  | 0.1  | nan  | nan  | nan  | 0.0822222\n",
      "Australia/Oceania | American Samoa        | nan  | nan  | nan  | nan  | nan  | nan  | nan  | nan  | nan  | nan  | nan  | nan  | 0\n",
      "Europe            | Andorra               | nan  | nan  | nan  | nan  | nan  | nan  | nan  | nan  | nan  | nan  | nan  | nan  | 0\n",
      "Africa            | Angola                | 1.9  | 1.9  | 1.9  | 1.9  | 1.9  | 1.9  | 1.9  | 1.9  | 2    | 2.1  | 2.1  | 2.1  | 1.95833\n",
      "North America     | Anguilla              | nan  | nan  | nan  | nan  | nan  | nan  | nan  | nan  | nan  | nan  | nan  | nan  | 0\n",
      "North America     | Antigua and Barbuda   | nan  | nan  | nan  | nan  | nan  | nan  | nan  | nan  | nan  | nan  | nan  | nan  | 0\n",
      "... (265 rows omitted)\n"
     ]
    }
   ],
   "source": [
    "no_of_countries = range(hiv_prev_data_2000_2011.num_rows)\n",
    "for i in no_of_countries:\n",
    "    count = 0\n",
    "    avg_hiv_prev_val= 0\n",
    "    for j in range(2,14):\n",
    "        if (math.isnan(hiv_prev_data_2000_2011.row(i)[j])):\n",
    "            continue\n",
    "        else:\n",
    "            count += 1\n",
    "            avg_hiv_prev_val += hiv_prev_data_2000_2011.row(i)[j]\n",
    "    if (count != 0):\n",
    "        hiv_prev_data_2000_2011['avg_hiv_prev_val'][i] = avg_hiv_prev_val/count\n",
    "print(hiv_prev_data_2000_2011)"
   ]
  },
  {
   "cell_type": "code",
   "execution_count": 35,
   "metadata": {
    "collapsed": true
   },
   "outputs": [
    {
     "name": "stdout",
     "output_type": "stream",
     "text": [
      "155\n",
      "i 0\n",
      "i 1\n",
      "i 2\n",
      "i 3\n",
      "i 4\n",
      "i 5\n",
      "i 6\n",
      "i 7\n",
      "i 8\n",
      "i 9\n",
      "i 10\n",
      "i 11\n",
      "i 12\n",
      "i 13\n",
      "i 14\n",
      "i 15\n",
      "i 16\n",
      "i 17\n",
      "i 18\n",
      "i 19\n",
      "i 20\n",
      "i 21\n",
      "i 22\n",
      "i 23\n",
      "i 24\n",
      "i 25\n",
      "i 26\n",
      "i 27\n",
      "i 28\n",
      "i 29\n",
      "i 30\n",
      "i 31\n",
      "i 32\n",
      "i 33\n",
      "i 34\n",
      "i 35\n",
      "i 36\n",
      "i 37\n",
      "i 38\n",
      "i 39\n",
      "i 40\n",
      "i 41\n",
      "i 42\n",
      "i 43\n",
      "i 44\n",
      "i 45\n",
      "i 46\n",
      "i 47\n",
      "i 48\n",
      "i 49\n",
      "i 50\n",
      "i 51\n",
      "i 52\n",
      "i 53\n",
      "i 54\n",
      "i 55\n",
      "i 56\n",
      "i 57\n",
      "i 58\n",
      "i 59\n",
      "i 60\n",
      "i 61\n",
      "i 62\n",
      "i 63\n",
      "i 64\n",
      "i 65\n",
      "i 66\n",
      "i 67\n",
      "i 68\n",
      "i 69\n",
      "i 70\n",
      "i 71\n",
      "i 72\n",
      "i 73\n",
      "i 74\n",
      "i 75\n",
      "i 76\n",
      "i 77\n",
      "i 78\n",
      "i 79\n",
      "i 80\n",
      "i 81\n",
      "i 82\n",
      "i 83\n",
      "i 84\n",
      "i 85\n",
      "i 86\n",
      "i 87\n",
      "i 88\n",
      "i 89\n",
      "i 90\n",
      "i 91\n",
      "i 92\n",
      "i 93\n",
      "i 94\n",
      "i 95\n",
      "i 96\n",
      "i 97\n",
      "i 98\n",
      "i 99\n",
      "i 100\n",
      "i 101\n",
      "i 102\n",
      "i 103\n",
      "i 104\n",
      "i 105\n",
      "i 106\n",
      "i 107\n",
      "i 108\n",
      "i 109\n",
      "i 110\n",
      "i 111\n",
      "i 112\n",
      "i 113\n",
      "i 114\n",
      "i 115\n",
      "i 116\n",
      "i 117\n",
      "i 118\n",
      "i 119\n",
      "i 120\n",
      "i 121\n",
      "i 122\n",
      "i 123\n",
      "i 124\n",
      "i 125\n",
      "i 126\n",
      "i 127\n",
      "i 128\n",
      "i 129\n",
      "i 130\n",
      "i 131\n",
      "i 132\n",
      "i 133\n",
      "i 134\n",
      "i 135\n",
      "i 136\n",
      "i 137\n",
      "i 138\n",
      "i 139\n",
      "i 140\n",
      "i 141\n",
      "i 142\n",
      "i 143\n",
      "i 144\n",
      "i 145\n",
      "i 146\n",
      "i 147\n",
      "i 148\n",
      "i 149\n",
      "i 150\n",
      "i 151\n",
      "i 152\n",
      "i 153\n",
      "i 154\n",
      "continent         | country     | avg_hiv_prev_val\n",
      "Rest of the world | Abkhazia    | 0\n",
      "Asia              | Afghanistan | 0.06\n",
      "Africa            | Algeria     | 0.0822222\n",
      "Africa            | Angola      | 1.95833\n",
      "South America     | Argentina   | 0.408333\n",
      "Asia              | Armenia     | 0.125\n",
      "Australia/Oceania | Australia   | 0.125\n",
      "Europe            | Austria     | 0.233333\n",
      "Asia              | Azerbaijan  | 0.0766667\n",
      "North America     | Bahamas     | 3\n",
      "... (145 rows omitted)\n"
     ]
    }
   ],
   "source": [
    "hiv_prev_data_avg_2000_2011 = hiv_prev_data_2000_2011.select('continent','country','avg_hiv_prev_val')\n",
    "count = hiv_prev_data_avg_2000_2011.num_rows\n",
    "print(count)\n",
    "for i in range(count):\n",
    "    print('i', i)\n",
    "    if (hiv_prev_data_avg_2000_2011.row(i)[2] == 0.0):\n",
    "        hiv_prev_data_avg_2000_2011.remove(i)\n",
    "        count = hiv_prev_data_avg_2000_2011.num_rows\n",
    "    else :\n",
    "          i+=1\n",
    "print(hiv_prev_data_avg_2000_2011)"
   ]
  },
  {
   "cell_type": "code",
   "execution_count": 36,
   "metadata": {},
   "outputs": [
    {
     "name": "stdout",
     "output_type": "stream",
     "text": [
      "continent         | country max      | avg_hiv_prev_val max\n",
      "Africa            | Zimbabwe         | 25.2083\n",
      "Asia              | Yemen            | 1.45\n",
      "Australia/Oceania | Papua New Guinea | 0.7\n",
      "Europe            | United Kingdom   | 1.00833\n",
      "North America     | United States    | 3\n",
      "Rest of the world | Lao              | 4.75833\n",
      "South America     | Venezuela        | 1.20833\n",
      "continent         | country min | avg_hiv_prev_val min\n",
      "Africa            | Algeria     | 0.06\n",
      "Asia              | Afghanistan | 0.06\n",
      "Australia/Oceania | Australia   | 0.0833333\n",
      "Europe            | Austria     | 0.06\n",
      "North America     | Bahamas     | 0.103333\n",
      "Rest of the world | Abkhazia    | 0\n",
      "South America     | Argentina   | 0.225\n"
     ]
    }
   ],
   "source": [
    "cont_high_hiv_prev_data = hiv_prev_data_avg_2000_2011.group(\"continent\", max)\n",
    "print(cont_high_hiv_prev_data)\n",
    "cont_low_hiv_prev_data = hiv_prev_data_avg_2000_2011.group(\"continent\", min)\n",
    "print(cont_low_hiv_prev_data)"
   ]
  },
  {
   "cell_type": "code",
   "execution_count": 39,
   "metadata": {},
   "outputs": [
    {
     "ename": "ValueError",
     "evalue": "label \"avg_hiv_prev_val\" not in labels ('continent', 'country max', 'avg_hiv_prev_val max')",
     "output_type": "error",
     "traceback": [
      "\u001b[1;31m---------------------------------------------------------------------------\u001b[0m",
      "\u001b[1;31mValueError\u001b[0m                                Traceback (most recent call last)",
      "\u001b[1;32m<ipython-input-39-c0fd4e018fe9>\u001b[0m in \u001b[0;36m<module>\u001b[1;34m\u001b[0m\n\u001b[1;32m----> 1\u001b[1;33m \u001b[0mcont_high_hiv_prev_data\u001b[0m\u001b[1;33m.\u001b[0m\u001b[0mbarh\u001b[0m\u001b[1;33m(\u001b[0m\u001b[1;34m'avg_hiv_prev_val'\u001b[0m\u001b[1;33m)\u001b[0m\u001b[1;33m\u001b[0m\u001b[1;33m\u001b[0m\u001b[0m\n\u001b[0m\u001b[0;32m      2\u001b[0m \u001b[0mcont_low_hiv_prev_data\u001b[0m\u001b[1;33m.\u001b[0m\u001b[0mbarh\u001b[0m\u001b[1;33m(\u001b[0m\u001b[1;34m'avg_hiv_prev_val'\u001b[0m\u001b[1;33m)\u001b[0m\u001b[1;33m\u001b[0m\u001b[1;33m\u001b[0m\u001b[0m\n",
      "\u001b[1;32m~\\Anaconda3\\lib\\site-packages\\datascience\\tables.py\u001b[0m in \u001b[0;36mbarh\u001b[1;34m(self, column_for_categories, select, overlay, width, **vargs)\u001b[0m\n\u001b[0;32m   2227\u001b[0m         \u001b[0moptions\u001b[0m\u001b[1;33m.\u001b[0m\u001b[0mupdate\u001b[0m\u001b[1;33m(\u001b[0m\u001b[0mvargs\u001b[0m\u001b[1;33m)\u001b[0m\u001b[1;33m\u001b[0m\u001b[1;33m\u001b[0m\u001b[0m\n\u001b[0;32m   2228\u001b[0m \u001b[1;33m\u001b[0m\u001b[0m\n\u001b[1;32m-> 2229\u001b[1;33m         \u001b[0myticks\u001b[0m\u001b[1;33m,\u001b[0m \u001b[0mlabels\u001b[0m \u001b[1;33m=\u001b[0m \u001b[0mself\u001b[0m\u001b[1;33m.\u001b[0m\u001b[0m_split_column_and_labels\u001b[0m\u001b[1;33m(\u001b[0m\u001b[0mcolumn_for_categories\u001b[0m\u001b[1;33m)\u001b[0m\u001b[1;33m\u001b[0m\u001b[1;33m\u001b[0m\u001b[0m\n\u001b[0m\u001b[0;32m   2230\u001b[0m         \u001b[1;32mif\u001b[0m \u001b[0mselect\u001b[0m \u001b[1;32mis\u001b[0m \u001b[1;32mnot\u001b[0m \u001b[1;32mNone\u001b[0m\u001b[1;33m:\u001b[0m\u001b[1;33m\u001b[0m\u001b[1;33m\u001b[0m\u001b[0m\n\u001b[0;32m   2231\u001b[0m             \u001b[0mlabels\u001b[0m \u001b[1;33m=\u001b[0m \u001b[0mself\u001b[0m\u001b[1;33m.\u001b[0m\u001b[0m_as_labels\u001b[0m\u001b[1;33m(\u001b[0m\u001b[0mselect\u001b[0m\u001b[1;33m)\u001b[0m\u001b[1;33m\u001b[0m\u001b[1;33m\u001b[0m\u001b[0m\n",
      "\u001b[1;32m~\\Anaconda3\\lib\\site-packages\\datascience\\tables.py\u001b[0m in \u001b[0;36m_split_column_and_labels\u001b[1;34m(self, column_or_label)\u001b[0m\n\u001b[0;32m   2455\u001b[0m     \u001b[1;32mdef\u001b[0m \u001b[0m_split_column_and_labels\u001b[0m\u001b[1;33m(\u001b[0m\u001b[0mself\u001b[0m\u001b[1;33m,\u001b[0m \u001b[0mcolumn_or_label\u001b[0m\u001b[1;33m)\u001b[0m\u001b[1;33m:\u001b[0m\u001b[1;33m\u001b[0m\u001b[1;33m\u001b[0m\u001b[0m\n\u001b[0;32m   2456\u001b[0m         \u001b[1;34m\"\"\"Return the specified column and labels of other columns.\"\"\"\u001b[0m\u001b[1;33m\u001b[0m\u001b[1;33m\u001b[0m\u001b[0m\n\u001b[1;32m-> 2457\u001b[1;33m         \u001b[0mcolumn\u001b[0m \u001b[1;33m=\u001b[0m \u001b[1;32mNone\u001b[0m \u001b[1;32mif\u001b[0m \u001b[0mcolumn_or_label\u001b[0m \u001b[1;32mis\u001b[0m \u001b[1;32mNone\u001b[0m \u001b[1;32melse\u001b[0m \u001b[0mself\u001b[0m\u001b[1;33m.\u001b[0m\u001b[0m_get_column\u001b[0m\u001b[1;33m(\u001b[0m\u001b[0mcolumn_or_label\u001b[0m\u001b[1;33m)\u001b[0m\u001b[1;33m\u001b[0m\u001b[1;33m\u001b[0m\u001b[0m\n\u001b[0m\u001b[0;32m   2458\u001b[0m         \u001b[0mlabels\u001b[0m \u001b[1;33m=\u001b[0m \u001b[1;33m[\u001b[0m\u001b[0mlabel\u001b[0m \u001b[1;32mfor\u001b[0m \u001b[0mi\u001b[0m\u001b[1;33m,\u001b[0m \u001b[0mlabel\u001b[0m \u001b[1;32min\u001b[0m \u001b[0menumerate\u001b[0m\u001b[1;33m(\u001b[0m\u001b[0mself\u001b[0m\u001b[1;33m.\u001b[0m\u001b[0mlabels\u001b[0m\u001b[1;33m)\u001b[0m \u001b[1;32mif\u001b[0m \u001b[0mcolumn_or_label\u001b[0m \u001b[1;32mnot\u001b[0m \u001b[1;32min\u001b[0m \u001b[1;33m(\u001b[0m\u001b[0mi\u001b[0m\u001b[1;33m,\u001b[0m \u001b[0mlabel\u001b[0m\u001b[1;33m)\u001b[0m\u001b[1;33m]\u001b[0m\u001b[1;33m\u001b[0m\u001b[1;33m\u001b[0m\u001b[0m\n\u001b[0;32m   2459\u001b[0m         \u001b[1;32mreturn\u001b[0m \u001b[0mcolumn\u001b[0m\u001b[1;33m,\u001b[0m \u001b[0mlabels\u001b[0m\u001b[1;33m\u001b[0m\u001b[1;33m\u001b[0m\u001b[0m\n",
      "\u001b[1;32m~\\Anaconda3\\lib\\site-packages\\datascience\\tables.py\u001b[0m in \u001b[0;36m_get_column\u001b[1;34m(self, column_or_label)\u001b[0m\n\u001b[0;32m   1389\u001b[0m             \u001b[1;32mreturn\u001b[0m \u001b[0mself\u001b[0m\u001b[1;33m[\u001b[0m\u001b[0mc\u001b[0m\u001b[1;33m]\u001b[0m\u001b[1;33m\u001b[0m\u001b[1;33m\u001b[0m\u001b[0m\n\u001b[0;32m   1390\u001b[0m         \u001b[1;32melif\u001b[0m \u001b[0misinstance\u001b[0m\u001b[1;33m(\u001b[0m\u001b[0mc\u001b[0m\u001b[1;33m,\u001b[0m \u001b[0mstr\u001b[0m\u001b[1;33m)\u001b[0m\u001b[1;33m:\u001b[0m\u001b[1;33m\u001b[0m\u001b[1;33m\u001b[0m\u001b[0m\n\u001b[1;32m-> 1391\u001b[1;33m             \u001b[1;32mraise\u001b[0m \u001b[0mValueError\u001b[0m\u001b[1;33m(\u001b[0m\u001b[1;34m'label \"{}\" not in labels {}'\u001b[0m\u001b[1;33m.\u001b[0m\u001b[0mformat\u001b[0m\u001b[1;33m(\u001b[0m\u001b[0mc\u001b[0m\u001b[1;33m,\u001b[0m \u001b[0mself\u001b[0m\u001b[1;33m.\u001b[0m\u001b[0mlabels\u001b[0m\u001b[1;33m)\u001b[0m\u001b[1;33m)\u001b[0m\u001b[1;33m\u001b[0m\u001b[1;33m\u001b[0m\u001b[0m\n\u001b[0m\u001b[0;32m   1392\u001b[0m         \u001b[1;32melse\u001b[0m\u001b[1;33m:\u001b[0m\u001b[1;33m\u001b[0m\u001b[1;33m\u001b[0m\u001b[0m\n\u001b[0;32m   1393\u001b[0m             \u001b[1;32massert\u001b[0m \u001b[0mlen\u001b[0m\u001b[1;33m(\u001b[0m\u001b[0mc\u001b[0m\u001b[1;33m)\u001b[0m \u001b[1;33m==\u001b[0m \u001b[0mself\u001b[0m\u001b[1;33m.\u001b[0m\u001b[0mnum_rows\u001b[0m\u001b[1;33m,\u001b[0m \u001b[1;34m'column length mismatch'\u001b[0m\u001b[1;33m\u001b[0m\u001b[1;33m\u001b[0m\u001b[0m\n",
      "\u001b[1;31mValueError\u001b[0m: label \"avg_hiv_prev_val\" not in labels ('continent', 'country max', 'avg_hiv_prev_val max')"
     ]
    }
   ],
   "source": [
    "cont_high_hiv_prev_data.barh('avg_hiv_prev_val')\n",
    "cont_low_hiv_prev_data.barh('avg_hiv_prev_val')\n"
   ]
  },
  {
   "cell_type": "code",
   "execution_count": null,
   "metadata": {},
   "outputs": [],
   "source": []
  }
 ],
 "metadata": {
  "kernelspec": {
   "display_name": "Python 3",
   "language": "python",
   "name": "python3"
  },
  "language_info": {
   "codemirror_mode": {
    "name": "ipython",
    "version": 3
   },
   "file_extension": ".py",
   "mimetype": "text/x-python",
   "name": "python",
   "nbconvert_exporter": "python",
   "pygments_lexer": "ipython3",
   "version": "3.7.3"
  }
 },
 "nbformat": 4,
 "nbformat_minor": 2
}
